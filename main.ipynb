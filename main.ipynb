{
	"cells": [
		{
			"cell_type": "code",
			"execution_count": 48,
			"metadata": {},
			"outputs": [],
			"source": [
				"from src.IntModP import IntModP\n",
				"from src.CurvePoint import CurvePoint\n",
				"from src.EllipticCurve import EllipticCurve\n",
				"\n",
				"\n",
				"from src.Emitter import Emitter\n",
				"from src.Receiver import Receiver\n",
				"from src.Interceptor import Interceptor\n",
				"\n",
				"\n",
				"from src.utils import initPublic, displayPointsArray"
			]
		},
		{
			"cell_type": "code",
			"execution_count": 49,
			"metadata": {},
			"outputs": [],
			"source": [
				"IntModP.p = 100003\n",
				"a = 121\n",
				"b = 42"
			]
		},
		{
			"cell_type": "code",
			"execution_count": 50,
			"metadata": {},
			"outputs": [],
			"source": [
				"E = EllipticCurve(a, b)"
			]
		},
		{
			"cell_type": "code",
			"execution_count": 59,
			"metadata": {},
			"outputs": [
				{
					"name": "stdout",
					"output_type": "stream",
					"text": [
						"100413\n",
						"Point de E(Z/100003Z) : (1 [100003], 7583 [100003])\n"
					]
				}
			],
			"source": [
				"print(len(E.points))\n",
				"Q = E.getGeneratorPoint(len(E.points))\n",
				"print(Q)"
			]
		},
		{
			"cell_type": "code",
			"execution_count": 60,
			"metadata": {},
			"outputs": [],
			"source": [
				"public = initPublic(Q)"
			]
		},
		{
			"cell_type": "code",
			"execution_count": 61,
			"metadata": {},
			"outputs": [],
			"source": [
				"A = Emitter(f\"Message avec p = {IntModP.p} !!\", public)\n",
				"B = Receiver(public)"
			]
		},
		{
			"cell_type": "code",
			"execution_count": 62,
			"metadata": {},
			"outputs": [],
			"source": [
				"A.encodeMsg(public)"
			]
		},
		{
			"cell_type": "code",
			"execution_count": 63,
			"metadata": {},
			"outputs": [
				{
					"data": {
						"text/plain": [
							"'Message avec p = 100003 !!'"
						]
					},
					"execution_count": 63,
					"metadata": {},
					"output_type": "execute_result"
				}
			],
			"source": [
				"B.decodeMsg(public)"
			]
		},
		{
			"cell_type": "code",
			"execution_count": 64,
			"metadata": {},
			"outputs": [],
			"source": [
				"arr = [(el.x, el.y) for el in public[\"bP\"][1]]"
			]
		},
		{
			"cell_type": "code",
			"execution_count": 65,
			"metadata": {},
			"outputs": [],
			"source": [
				"# p     , a  , b  --> #E(Fp) --> (xp, yp   , ordre )   (tps pour récupérer tous les points de E, tps pour trouver un élément d'ordre q)\n",
				"# 7879  , 7  , 8  --> 7944   --> (13, 2232 , 3972  )   (1m46 / 1s)  --> 25s\n",
				"# 10007 , 121, 42 --> 10047  --> (2 , 819  , 10047 )   (2m56  / 1s) --> 40.7s\n",
				"# 15013 , 121, 42 --> 14968  --> (0 , 5394 , 7484  )   (6m43  / 1s)\n",
				"# 20011 , 121, 42 --> 20016  --> (13, 2691 , 20016 )   (11m52 / 3s)\n",
				"# 40009 , 121, 42 --> 40354  --> (9 , 10554, 40354 )   (45m35 / 8s)\n",
				"# 100003, 121, 42 --> 100413 --> (1 , 7583 , 100413)   (307m  / 5s)\n"
			]
		},
		{
			"cell_type": "markdown",
			"metadata": {},
			"source": [
				"### Génération de courbes et temps d'exécutions\n",
				"|    $p$   \t| $a$ \t| $b$ \t| $\\#E(F_p)$ \t|  $(x_P, y_P)$ \t|  $P.o$  \t| `EllipticCurve(a, b)` |     `getGeneratorPoint()` \t|\n",
				"|:--------:\t|:---:\t|:---:\t|:----------:\t|:-------------:\t|:------:\t|:-------------------:\t|:-------------------------:\t|\n",
				"|  $7879$  \t|  7  \t|  8  \t|    7944    \t|  $(13, 2232)$ \t|  3972  \t|        25s        \t|            1.3s            \t|\n",
				"|  $10007$ \t| 121 \t|  42 \t|    10047   \t|  $(2 , 819)$  \t|  10047 \t|        39.6s        \t|            0.5s              \t|\n",
				"|  $15013$ \t| 121 \t|  42 \t|    14968   \t|  $(0 , 5394)$ \t|  7484  \t|        1m28          \t|            0.5s              \t|\n",
				"|  $20011$ \t| 121 \t|  42 \t|    20016   \t|  $(13, 2691)$ \t|  20016 \t|        2m41          \t|            2.9s             \t|\n",
				"|  $40009$ \t| 121 \t|  42 \t|    40354   \t|  $(9 , 10554)$ \t|  40354 \t|        11m8          \t|            8.1s             \t|\n",
				"|$100\\ 003$\t| 121 \t|  42 \t|   100413   \t|  $(1 , 7583)$ \t|  100413 \t|        70m           \t|            4.1s             \t|"
			]
		}
	],
	"metadata": {
		"kernelspec": {
			"display_name": "Python 3.10.1 ('.venv': venv)",
			"language": "python",
			"name": "python3"
		},
		"language_info": {
			"codemirror_mode": {
				"name": "ipython",
				"version": 3
			},
			"file_extension": ".py",
			"mimetype": "text/x-python",
			"name": "python",
			"nbconvert_exporter": "python",
			"pygments_lexer": "ipython3",
			"version": "3.10.1"
		},
		"orig_nbformat": 4,
		"vscode": {
			"interpreter": {
				"hash": "ae867a6b5f12ccd739897f9d761343a74dd71ea65a6d027bc4f7a832d5f08fdb"
			}
		}
	},
	"nbformat": 4,
	"nbformat_minor": 2
}
