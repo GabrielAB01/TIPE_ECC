{
 "cells": [
  {
   "cell_type": "code",
   "execution_count": 1,
   "metadata": {},
   "outputs": [],
   "source": [
    "import numpy as np\n",
    "from random import randrange\n",
    "\n",
    "from src.constants import p, a, b\n",
    "from src.IntModP import IntModP\n",
    "from src.CurvePoint import CurvePoint\n",
    "from src.EllipticCurve import EllipticCurve\n",
    "\n",
    "from src.Encoder import Encoder"
   ]
  },
  {
   "cell_type": "code",
   "execution_count": 2,
   "metadata": {},
   "outputs": [
    {
     "name": "stdout",
     "output_type": "stream",
     "text": [
      "81 [317]\n",
      "27 [317]\n"
     ]
    }
   ],
   "source": [
    "x = IntModP(6)\n",
    "y = IntModP(3)\n",
    "x+=y\n",
    "print(x**2)\n",
    "y*=x\n",
    "print(y)\n"
   ]
  },
  {
   "cell_type": "code",
   "execution_count": 3,
   "metadata": {},
   "outputs": [
    {
     "name": "stdout",
     "output_type": "stream",
     "text": [
      "Point de E(Z/317Z) : (156 [317], 103 [317])\n",
      "Point de E(Z/317Z) : (156 [317], 103 [317])\n"
     ]
    }
   ],
   "source": [
    "P = CurvePoint(a, b, 8, 1)\n",
    "\n",
    "print((-2)*P)\n",
    "print(P - 3*P)\n"
   ]
  },
  {
   "cell_type": "code",
   "execution_count": 4,
   "metadata": {},
   "outputs": [
    {
     "name": "stdout",
     "output_type": "stream",
     "text": [
      "y^2 = x^3 + 15 [317]x + 3 [317]\n"
     ]
    }
   ],
   "source": [
    "E = EllipticCurve(a, b)\n",
    "print(E)\n",
    "# E.printPoints()"
   ]
  },
  {
   "cell_type": "code",
   "execution_count": 24,
   "metadata": {},
   "outputs": [
    {
     "name": "stdout",
     "output_type": "stream",
     "text": [
      "6742167996113793302940144189862687263502899\n",
      "Message secret 123\n"
     ]
    }
   ],
   "source": [
    "msg = \"Message secret 123\"\n",
    "nMsg = Encoder.encode(msg)\n",
    "print(nMsg)\n",
    "print(Encoder.decode(nMsg))\n"
   ]
  },
  {
   "cell_type": "code",
   "execution_count": 25,
   "metadata": {},
   "outputs": [
    {
     "data": {
      "text/plain": [
       "(None, None)"
      ]
     },
     "execution_count": 25,
     "metadata": {},
     "output_type": "execute_result"
    }
   ],
   "source": [
    "P = CurvePoint(a, b, 8, 1)\n",
    "q = P.order()\n",
    "E = Encoder(msg, P)\n",
    "(E.dico[\" \"].x, E.dico[\" \"].y)"
   ]
  },
  {
   "cell_type": "code",
   "execution_count": 26,
   "metadata": {},
   "outputs": [
    {
     "data": {
      "text/plain": [
       "[(127, 209),\n",
       " (166, 102),\n",
       " (120, 85),\n",
       " (120, 85),\n",
       " (8, 1),\n",
       " (19, 217),\n",
       " (166, 102),\n",
       " (None, None),\n",
       " (120, 85),\n",
       " (166, 102),\n",
       " (144, 86),\n",
       " (88, 166),\n",
       " (166, 102),\n",
       " (249, 56),\n",
       " (None, None),\n",
       " (260, 44),\n",
       " (271, 212),\n",
       " (161, 227)]"
      ]
     },
     "execution_count": 26,
     "metadata": {},
     "output_type": "execute_result"
    }
   ],
   "source": [
    "arr = E.stringToArray()\n",
    "n = len(arr)\n",
    "if n%3 != 0 :\n",
    "\tarr = arr + [E.dico[\" \"]] * (3 - n%3)\n",
    "n=len(arr)\n",
    "[(el.x, el.y) for el in arr]"
   ]
  },
  {
   "cell_type": "code",
   "execution_count": 27,
   "metadata": {},
   "outputs": [
    {
     "data": {
      "text/plain": [
       "-1.0"
      ]
     },
     "execution_count": 27,
     "metadata": {},
     "output_type": "execute_result"
    }
   ],
   "source": [
    "A = np.array([\n",
    "\t[-1, 5, -1], \n",
    "\t[-2, 11, 7], \n",
    "\t[1, -5, 2]\n",
    "])\n",
    "\n",
    "np.linalg.det(A)"
   ]
  },
  {
   "cell_type": "code",
   "execution_count": 28,
   "metadata": {},
   "outputs": [],
   "source": [
    "r = int(n/3)\n",
    "\n",
    "M = np.array([\n",
    "\t[arr[j] for j in range(r)],\n",
    "\t[arr[j] for j in range(r, 2*r)],\n",
    "\t[arr[j] for j in range(2*r, n)],\n",
    "])\n"
   ]
  },
  {
   "cell_type": "code",
   "execution_count": 29,
   "metadata": {},
   "outputs": [],
   "source": [
    "Q = np.dot(A, M)"
   ]
  },
  {
   "cell_type": "code",
   "execution_count": 30,
   "metadata": {},
   "outputs": [
    {
     "data": {
      "text/plain": [
       "(18,)"
      ]
     },
     "execution_count": 30,
     "metadata": {},
     "output_type": "execute_result"
    }
   ],
   "source": [
    "S = np.ndarray.flatten(Q)\n",
    "np.shape(S)\n",
    "# [(el.x, el.y) for el in S]"
   ]
  },
  {
   "cell_type": "code",
   "execution_count": 31,
   "metadata": {},
   "outputs": [],
   "source": [
    "# On a les points sur la courbe\n",
    "\n",
    "# Données : \n",
    "alice = {}\n",
    "public = {}\n",
    "bob = {\n",
    "\t\"msg\": msg\n",
    "}\n"
   ]
  },
  {
   "cell_type": "code",
   "execution_count": 32,
   "metadata": {},
   "outputs": [],
   "source": [
    "# Alice choisit a\n",
    "alice[\"a\"] = randrange(q)\n",
    "\n",
    "# Alice publie aP\n",
    "public[\"aP\"] = alice[\"a\"] * P"
   ]
  },
  {
   "cell_type": "code",
   "execution_count": 33,
   "metadata": {},
   "outputs": [],
   "source": [
    "# Bob choisit b\n",
    "bob[\"b\"] = randrange(q)\n",
    "\n",
    "# Bob publie le couple (bP, M + b(aP))\n",
    "public[\"bP\"] = ( bob[\"b\"]*P, S + bob[\"b\"] * public[\"aP\"] )"
   ]
  },
  {
   "cell_type": "code",
   "execution_count": 34,
   "metadata": {},
   "outputs": [],
   "source": [
    "# Alice reconstitue la matrice S\n",
    "c1, c2 = public[\"bP\"]\n",
    "S_out = c2 - alice[\"a\"]*c1\n",
    "# [(el.x, el.y) for el in M]"
   ]
  },
  {
   "cell_type": "code",
   "execution_count": 35,
   "metadata": {},
   "outputs": [],
   "source": [
    "Q_out = np.array([\n",
    "\t[S_out[j] for j in range(r)],\n",
    "\t[S_out[j] for j in range(r, 2*r)],\n",
    "\t[S_out[j] for j in range(2*r, n)],\n",
    "])\n",
    "M_out = np.dot(\n",
    "\tnp.int_(np.linalg.inv(A)),\n",
    "\tQ_out\n",
    ")"
   ]
  },
  {
   "cell_type": "code",
   "execution_count": 36,
   "metadata": {},
   "outputs": [],
   "source": [
    "msg_out_arr = np.ndarray.flatten(M_out)"
   ]
  },
  {
   "cell_type": "code",
   "execution_count": 37,
   "metadata": {},
   "outputs": [
    {
     "data": {
      "text/plain": [
       "'Message secret 123'"
      ]
     },
     "execution_count": 37,
     "metadata": {},
     "output_type": "execute_result"
    }
   ],
   "source": [
    "final_msg = [E.dico_inv[f\"{e.x},{e.y}\"] for e in msg_out_arr]\n",
    "\"\".join(final_msg)"
   ]
  }
 ],
 "metadata": {
  "kernelspec": {
   "display_name": "Python 3.10.1 ('.venv': venv)",
   "language": "python",
   "name": "python3"
  },
  "language_info": {
   "codemirror_mode": {
    "name": "ipython",
    "version": 3
   },
   "file_extension": ".py",
   "mimetype": "text/x-python",
   "name": "python",
   "nbconvert_exporter": "python",
   "pygments_lexer": "ipython3",
   "version": "3.10.1"
  },
  "orig_nbformat": 4,
  "vscode": {
   "interpreter": {
    "hash": "ae867a6b5f12ccd739897f9d761343a74dd71ea65a6d027bc4f7a832d5f08fdb"
   }
  }
 },
 "nbformat": 4,
 "nbformat_minor": 2
}
