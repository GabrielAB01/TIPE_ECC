{
	"cells": [
		{
			"cell_type": "code",
			"execution_count": 1,
			"metadata": {},
			"outputs": [],
			"source": [
				"from src.constants import p, a, b\n",
				"from src.CurvePoint import CurvePoint\n",
				"from src.EllipticCurve import EllipticCurve\n",
				"\n",
				"\n",
				"from src.Emitter import Emitter\n",
				"from src.Receiver import Receiver\n",
				"from src.Interceptor import Interceptor\n",
				"\n",
				"\n",
				"from src.utils import initPublic"
			]
		},
		{
			"cell_type": "code",
			"execution_count": 2,
			"metadata": {},
			"outputs": [],
			"source": [
				"P = CurvePoint(a, b, 8, 1)\n",
				"public = initPublic(P)"
			]
		},
		{
			"cell_type": "code",
			"execution_count": 3,
			"metadata": {},
			"outputs": [],
			"source": [
				"A = Emitter(\"Ceci est un message secret\", public)\n",
				"B = Receiver(public)"
			]
		},
		{
			"cell_type": "code",
			"execution_count": 4,
			"metadata": {},
			"outputs": [],
			"source": [
				"A.encodeMsg(public)"
			]
		},
		{
			"cell_type": "code",
			"execution_count": 5,
			"metadata": {},
			"outputs": [
				{
					"data": {
						"text/plain": [
							"'Ceci est un message secret '"
						]
					},
					"execution_count": 5,
					"metadata": {},
					"output_type": "execute_result"
				}
			],
			"source": [
				"B.decodeMsg(public)"
			]
		},
		{
			"cell_type": "code",
			"execution_count": 6,
			"metadata": {},
			"outputs": [
				{
					"name": "stdout",
					"output_type": "stream",
					"text": [
						"Point de E(Z/317Z) : (78 [317], 15 [317])\n"
					]
				}
			],
			"source": [
				"I = Interceptor()\n",
				"Q = 112*P\n",
				"print(Q)\n"
			]
		},
		{
			"cell_type": "code",
			"execution_count": 7,
			"metadata": {},
			"outputs": [
				{
					"data": {
						"text/plain": [
							"112"
						]
					},
					"execution_count": 7,
					"metadata": {},
					"output_type": "execute_result"
				}
			],
			"source": [
				"I.log_discret(P, Q)"
			]
		}
	],
	"metadata": {
		"kernelspec": {
			"display_name": "Python 3.10.1 ('.venv': venv)",
			"language": "python",
			"name": "python3"
		},
		"language_info": {
			"codemirror_mode": {
				"name": "ipython",
				"version": 3
			},
			"file_extension": ".py",
			"mimetype": "text/x-python",
			"name": "python",
			"nbconvert_exporter": "python",
			"pygments_lexer": "ipython3",
			"version": "3.10.1"
		},
		"orig_nbformat": 4,
		"vscode": {
			"interpreter": {
				"hash": "ae867a6b5f12ccd739897f9d761343a74dd71ea65a6d027bc4f7a832d5f08fdb"
			}
		}
	},
	"nbformat": 4,
	"nbformat_minor": 2
}
