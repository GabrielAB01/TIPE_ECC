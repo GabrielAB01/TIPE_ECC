{
	"cells": [
		{
			"cell_type": "code",
			"execution_count": 1,
			"metadata": {},
			"outputs": [],
			"source": [
				"from src.IntModP import IntModP\n",
				"from src.CurvePoint import CurvePoint\n",
				"from src.EllipticCurve import EllipticCurve\n",
				"\n",
				"\n",
				"from src.Emitter import Emitter\n",
				"from src.Receiver import Receiver\n",
				"from src.LogDiscret import LogDiscret\n",
				"\n",
				"\n",
				"from src.utils import initPublic, primeFactors"
			]
		},
		{
			"cell_type": "code",
			"execution_count": 2,
			"metadata": {},
			"outputs": [],
			"source": [
				"IntModP.p = 40009\n",
				"a = 121\n",
				"b = 42"
			]
		},
		{
			"cell_type": "code",
			"execution_count": 3,
			"metadata": {},
			"outputs": [],
			"source": [
				"E = EllipticCurve(a, b)"
			]
		},
		{
			"cell_type": "code",
			"execution_count": 4,
			"metadata": {},
			"outputs": [
				{
					"name": "stdout",
					"output_type": "stream",
					"text": [
						"0\n",
						"Point de E(Z/40009Z) : (0 [40009], 4341 [40009])\n",
						"20177\n"
					]
				}
			],
			"source": [
				"print(len(E.points))\n",
				"# P = E.getGeneratorPoint(23374)\n",
				"P = E.getPointOfOrder(2000)\n",
				"print(P)\n",
				"print(P.order())"
			]
		},
		{
			"cell_type": "code",
			"execution_count": 5,
			"metadata": {},
			"outputs": [
				{
					"name": "stdout",
					"output_type": "stream",
					"text": [
						"Point de E(Z/40009Z) : (32026 [40009], 8178 [40009])\n"
					]
				}
			],
			"source": [
				"Q = 3492*P\n",
				"print(Q)"
			]
		},
		{
			"cell_type": "code",
			"execution_count": 6,
			"metadata": {},
			"outputs": [
				{
					"data": {
						"text/plain": [
							"3492"
						]
					},
					"execution_count": 6,
					"metadata": {},
					"output_type": "execute_result"
				}
			],
			"source": [
				"L = LogDiscret()\n",
				"L.baby_step_giant_step(P, Q)"
			]
		},
		{
			"cell_type": "code",
			"execution_count": 7,
			"metadata": {},
			"outputs": [
				{
					"data": {
						"text/plain": [
							"3492"
						]
					},
					"execution_count": 7,
					"metadata": {},
					"output_type": "execute_result"
				}
			],
			"source": [
				"L.rho_pollard(P, Q)"
			]
		},
		{
			"cell_type": "code",
			"execution_count": 8,
			"metadata": {},
			"outputs": [
				{
					"ename": "AssertionError",
					"evalue": "",
					"output_type": "error",
					"traceback": [
						"\u001b[1;31m---------------------------------------------------------------------------\u001b[0m",
						"\u001b[1;31mAssertionError\u001b[0m                            Traceback (most recent call last)",
						"\u001b[1;32m~\\AppData\\Local\\Temp/ipykernel_1936/2982705338.py\u001b[0m in \u001b[0;36m<module>\u001b[1;34m\u001b[0m\n\u001b[0;32m      1\u001b[0m \u001b[1;32mfor\u001b[0m \u001b[0mi\u001b[0m \u001b[1;32min\u001b[0m \u001b[0mrange\u001b[0m\u001b[1;33m(\u001b[0m\u001b[0mP\u001b[0m\u001b[1;33m.\u001b[0m\u001b[0mo\u001b[0m\u001b[1;33m)\u001b[0m\u001b[1;33m:\u001b[0m\u001b[1;33m\u001b[0m\u001b[1;33m\u001b[0m\u001b[0m\n\u001b[1;32m----> 2\u001b[1;33m         \u001b[1;32massert\u001b[0m \u001b[0mL\u001b[0m\u001b[1;33m.\u001b[0m\u001b[0mrho_pollard\u001b[0m\u001b[1;33m(\u001b[0m\u001b[0mP\u001b[0m\u001b[1;33m,\u001b[0m \u001b[0mi\u001b[0m\u001b[1;33m*\u001b[0m\u001b[0mP\u001b[0m\u001b[1;33m)\u001b[0m\u001b[1;33m==\u001b[0m\u001b[0mi\u001b[0m\u001b[1;33m\u001b[0m\u001b[1;33m\u001b[0m\u001b[0m\n\u001b[0m\u001b[0;32m      3\u001b[0m         \u001b[1;32massert\u001b[0m \u001b[0mL\u001b[0m\u001b[1;33m.\u001b[0m\u001b[0mbaby_step_giant_step\u001b[0m\u001b[1;33m(\u001b[0m\u001b[0mP\u001b[0m\u001b[1;33m,\u001b[0m \u001b[0mi\u001b[0m\u001b[1;33m*\u001b[0m\u001b[0mP\u001b[0m\u001b[1;33m)\u001b[0m\u001b[1;33m==\u001b[0m\u001b[0mi\u001b[0m\u001b[1;33m\u001b[0m\u001b[1;33m\u001b[0m\u001b[0m\n",
						"\u001b[1;31mAssertionError\u001b[0m: "
					]
				}
			],
			"source": [
				"for i in range(P.o):\n",
				"\tassert L.rho_pollard(P, i*P)==i\n",
				"\tassert L.baby_step_giant_step(P, i*P)==i"
			]
		},
		{
			"cell_type": "code",
			"execution_count": null,
			"metadata": {},
			"outputs": [],
			"source": [
				"# p     , a  , b  --> #E(Fp) --> (xp, yp   , ordre )   (tps pour récupérer tous les points de E, tps pour trouver un élément d'ordre q)\n",
				"# 7879  , 7  , 8  --> 7944   --> (13, 2232 , 3972  )   (1m46 / 1s)  --> 25s\n",
				"# 10007 , 121, 42 --> 10047  --> (2 , 819  , 10047 )   (2m56  / 1s) --> 40.7s\n",
				"# 15013 , 121, 42 --> 14968  --> (0 , 5394 , 7484  )   (6m43  / 1s)\n",
				"# 20011 , 121, 42 --> 20016  --> (13, 2691 , 20016 )   (11m52 / 3s)\n",
				"# 40009 , 121, 42 --> 40354  --> (9 , 10554, 40354 )   (45m35 / 8s)\n",
				"# 100003, 121, 42 --> 100413 --> (1 , 7583 , 100413)   (307m  / 5s)\n"
			]
		},
		{
			"cell_type": "markdown",
			"metadata": {},
			"source": [
				"### Génération de courbes et temps d'exécutions\n",
				"|    $p$   \t| $a$ \t| $b$ \t| $\\#E(F_p)$ \t|  $(x_P, y_P)$ \t|  $P.o$  \t| `EllipticCurve(a, b)` |     `getGeneratorPoint()` \t|\n",
				"|:--------:\t|:---:\t|:---:\t|:----------:\t|:-------------:\t|:------:\t|:-------------------:\t|:-------------------------:\t|\n",
				"|  $7879$  \t|  7  \t|  8  \t|    7944    \t|  $(13, 2232)$ \t|  3972  \t|        25s        \t|            1.3s            \t|\n",
				"|  $10007$ \t| 121 \t|  42 \t|    10047   \t|  $(2 , 819)$  \t|  10047 \t|        39.6s        \t|            0.5s              \t|\n",
				"|  $15013$ \t| 121 \t|  42 \t|    14968   \t|  $(0 , 5394)$ \t|  7484  \t|        1m28          \t|            0.5s              \t|\n",
				"|  $20011$ \t| 121 \t|  42 \t|    20016   \t|  $(13, 2691)$ \t|  20016 \t|        2m41          \t|            2.9s             \t|\n",
				"|  $40009$ \t| 121 \t|  42 \t|    40354   \t|  $(9 , 10554)$ \t|  40354 \t|        11m8          \t|            8.1s             \t|\n",
				"|$100\\ 003$\t| 121 \t|  42 \t|   100413   \t|  $(1 , 7583)$ \t|  100413 \t|        70m           \t|            4.1s             \t|"
			]
		}
	],
	"metadata": {
		"kernelspec": {
			"display_name": "Python 3.10.1 ('.venv': venv)",
			"language": "python",
			"name": "python3"
		},
		"language_info": {
			"codemirror_mode": {
				"name": "ipython",
				"version": 3
			},
			"file_extension": ".py",
			"mimetype": "text/x-python",
			"name": "python",
			"nbconvert_exporter": "python",
			"pygments_lexer": "ipython3",
			"version": "3.10.1"
		},
		"orig_nbformat": 4,
		"vscode": {
			"interpreter": {
				"hash": "e679cc42984d51746913ada09ad129d069079c8bcf1860770467ce8de69d4ee0"
			}
		}
	},
	"nbformat": 4,
	"nbformat_minor": 2
}
