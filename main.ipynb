{
	"cells": [
		{
			"cell_type": "code",
			"execution_count": 1,
			"metadata": {},
			"outputs": [],
			"source": [
				"from src.IntModP import IntModP\n",
				"from src.CurvePoint import CurvePoint\n",
				"from src.EllipticCurve import EllipticCurve\n",
				"\n",
				"\n",
				"from src.Emitter import Emitter\n",
				"from src.Receiver import Receiver\n",
				"from src.LogDiscret import LogDiscret\n",
				"\n",
				"\n",
				"from src.utils import initPublic\n"
			]
		},
		{
			"cell_type": "code",
			"execution_count": 2,
			"metadata": {},
			"outputs": [
				{
					"name": "stdout",
					"output_type": "stream",
					"text": [
						"y^2 = x^3 + 7x + 8 [7879]\n"
					]
				}
			],
			"source": [
				"# Paramètres\n",
				"IntModP.p = 7879\n",
				"a = 7\n",
				"b = 8\n",
				"\n",
				"E = EllipticCurve(a, b)\n",
				"print(E)\n"
			]
		},
		{
			"cell_type": "code",
			"execution_count": 3,
			"metadata": {},
			"outputs": [
				{
					"name": "stdout",
					"output_type": "stream",
					"text": [
						"Point de E(Z/7879Z) : (13 [7879], 2232 [7879])\n",
						"P est d'ordre : 3972\n"
					]
				}
			],
			"source": [
				"# Point P commun\n",
				"P = E.getPointOfOrder(3972)\n",
				"print(P)\n",
				"print(\"P est d'ordre :\", P.order())\n"
			]
		},
		{
			"cell_type": "code",
			"execution_count": 4,
			"metadata": {},
			"outputs": [],
			"source": [
				"# Transmission du message\n",
				"public = initPublic(P)\n",
				"A = Emitter(\"Message très secret\", public)\n",
				"B = Receiver(public)\n",
				"\n",
				"A.encodeMsg(public)  # Chiffrement\n"
			]
		},
		{
			"cell_type": "code",
			"execution_count": 5,
			"metadata": {},
			"outputs": [
				{
					"data": {
						"text/plain": [
							"'Message très secret'"
						]
					},
					"execution_count": 5,
					"metadata": {},
					"output_type": "execute_result"
				}
			],
			"source": [
				"B.decodeMsg(public)  # Déchiffrement\n"
			]
		},
		{
			"cell_type": "code",
			"execution_count": null,
			"metadata": {},
			"outputs": [],
			"source": []
		},
		{
			"cell_type": "code",
			"execution_count": null,
			"metadata": {},
			"outputs": [],
			"source": [
				"# p     , a  , b  --> #E(Fp) --> (xp, yp   , ordre )   (tps pour récupérer tous les points de E, tps pour trouver un élément d'ordre q)\n",
				"# 7879  , 7  , 8  --> 7944   --> (13, 2232 , 3972  )   (1m46 / 1s)  --> 25s\n",
				"# 10007 , 121, 42 --> 10047  --> (2 , 819  , 10047 )   (2m56  / 1s) --> 40.7s\n",
				"# 15013 , 121, 42 --> 14968  --> (0 , 5394 , 7484  )   (6m43  / 1s)\n",
				"# 20011 , 121, 42 --> 20016  --> (13, 2691 , 20016 )   (11m52 / 3s)\n",
				"# 40009 , 121, 42 --> 40354  --> (9 , 10554, 40354 )   (45m35 / 8s)\n",
				"# 100003, 121, 42 --> 100413 --> (1 , 7583 , 100413)   (307m  / 5s)\n"
			]
		},
		{
			"attachments": {},
			"cell_type": "markdown",
			"metadata": {},
			"source": [
				"### Génération de courbes et temps d'exécutions\n",
				"|    $p$   \t| $a$ \t| $b$ \t| $\\#E(F_p)$ \t|  $(x_P, y_P)$ \t|  $P.o$  \t| `EllipticCurve(a, b)` |     `getGeneratorPoint()` \t|\n",
				"|:--------:\t|:---:\t|:---:\t|:----------:\t|:-------------:\t|:------:\t|:-------------------:\t|:-------------------------:\t|\n",
				"|  $7879$  \t|  7  \t|  8  \t|    7944    \t|  $(13, 2232)$ \t|  3972  \t|        25s        \t|            1.3s            \t|\n",
				"|  $10007$ \t| 121 \t|  42 \t|    10047   \t|  $(2 , 819)$  \t|  10047 \t|        39.6s        \t|            0.5s              \t|\n",
				"|  $15013$ \t| 121 \t|  42 \t|    14968   \t|  $(0 , 5394)$ \t|  7484  \t|        1m28          \t|            0.5s              \t|\n",
				"|  $20011$ \t| 121 \t|  42 \t|    20016   \t|  $(13, 2691)$ \t|  20016 \t|        2m41          \t|            2.9s             \t|\n",
				"|  $40009$ \t| 121 \t|  42 \t|    40354   \t|  $(9 , 10554)$ \t|  40354 \t|        11m8          \t|            8.1s             \t|\n",
				"|$100\\ 003$\t| 121 \t|  42 \t|   100413   \t|  $(1 , 7583)$ \t|  100413 \t|        70m           \t|            4.1s             \t|"
			]
		}
	],
	"metadata": {
		"kernelspec": {
			"display_name": "Python 3.10.1 ('.venv': venv)",
			"language": "python",
			"name": "python3"
		},
		"language_info": {
			"codemirror_mode": {
				"name": "ipython",
				"version": 3
			},
			"file_extension": ".py",
			"mimetype": "text/x-python",
			"name": "python",
			"nbconvert_exporter": "python",
			"pygments_lexer": "ipython3",
			"version": "3.10.1"
		},
		"orig_nbformat": 4,
		"vscode": {
			"interpreter": {
				"hash": "e679cc42984d51746913ada09ad129d069079c8bcf1860770467ce8de69d4ee0"
			}
		}
	},
	"nbformat": 4,
	"nbformat_minor": 2
}
