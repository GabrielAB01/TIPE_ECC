{
 "cells": [
  {
   "cell_type": "code",
   "execution_count": null,
   "metadata": {},
   "outputs": [],
   "source": [
    "from src.IntModP import IntModP\n",
    "from src.CurvePoint import CurvePoint\n",
    "from src.EllipticCurve import EllipticCurve\n",
    "\n",
    "\n",
    "from src.Emitter import Emitter\n",
    "from src.Receiver import Receiver\n",
    "from src.Interceptor import Interceptor\n",
    "\n",
    "\n",
    "from src.utils import initPublic, displayPointsArray"
   ]
  },
  {
   "cell_type": "code",
   "execution_count": null,
   "metadata": {},
   "outputs": [],
   "source": [
    "IntModP.p = int(0xdb7c2abf62e35e668076bead208b)\n",
    "print(IntModP.p)\n",
    "a = int(0x6127c24c05f38a0aaaf65c0ef02c)\n",
    "b = int(0x51def1815db5ed74fcc34c85d709)"
   ]
  },
  {
   "cell_type": "code",
   "execution_count": null,
   "metadata": {},
   "outputs": [],
   "source": [
    "xp = int(0x4ba30ab5e892b4e1649dd0928643)\n",
    "yp = int(0xadcd46f5882e3747def36e956e97)\n",
    "print(xp)\n",
    "print(yp)"
   ]
  },
  {
   "cell_type": "code",
   "execution_count": null,
   "metadata": {},
   "outputs": [],
   "source": [
    "P = CurvePoint(a, b, xp, yp)\n",
    "P.o = int(0x36df0aafd8b8d7597ca10520d04b)"
   ]
  },
  {
   "cell_type": "code",
   "execution_count": null,
   "metadata": {},
   "outputs": [],
   "source": [
    "public = initPublic(P)\n",
    "A = Emitter(\"a\", public)\n",
    "B = Receiver(public)\n"
   ]
  },
  {
   "cell_type": "code",
   "execution_count": null,
   "metadata": {},
   "outputs": [],
   "source": [
    "A.encodeMsg(public)\n",
    "public"
   ]
  },
  {
   "cell_type": "code",
   "execution_count": null,
   "metadata": {},
   "outputs": [],
   "source": [
    "B.decodeMsg(public)\n"
   ]
  },
  {
   "cell_type": "code",
   "execution_count": null,
   "metadata": {},
   "outputs": [],
   "source": [
    "public[\"pointsToString\"]([CurvePoint(a, b, 49391401948782694554304397803768175143908830894876724449737114782272465407459, 75724423617855918794554466387348180687275922361501347229397878831055928931347)])"
   ]
  },
  {
   "cell_type": "code",
   "execution_count": null,
   "metadata": {},
   "outputs": [],
   "source": []
  }
 ],
 "metadata": {
  "kernelspec": {
   "display_name": "Python 3.10.1 ('.venv': venv)",
   "language": "python",
   "name": "python3"
  },
  "language_info": {
   "codemirror_mode": {
    "name": "ipython",
    "version": 3
   },
   "file_extension": ".py",
   "mimetype": "text/x-python",
   "name": "python",
   "nbconvert_exporter": "python",
   "pygments_lexer": "ipython3",
   "version": "3.10.1"
  },
  "orig_nbformat": 4,
  "vscode": {
   "interpreter": {
    "hash": "ae867a6b5f12ccd739897f9d761343a74dd71ea65a6d027bc4f7a832d5f08fdb"
   }
  }
 },
 "nbformat": 4,
 "nbformat_minor": 2
}
