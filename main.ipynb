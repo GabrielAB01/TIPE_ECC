{
	"cells": [
		{
			"cell_type": "code",
			"execution_count": 1,
			"metadata": {},
			"outputs": [],
			"source": [
				"from src.constants import p, a, b\n",
				"from src.CurvePoint import CurvePoint\n",
				"from src.EllipticCurve import EllipticCurve\n",
				"\n",
				"\n",
				"from src.Emitter import Emitter\n",
				"from src.Receiver import Receiver\n",
				"\n",
				"from src.utils import initPublic"
			]
		},
		{
			"cell_type": "code",
			"execution_count": 2,
			"metadata": {},
			"outputs": [],
			"source": [
				"P = CurvePoint(a, b, 8, 1)\n",
				"public = initPublic(P)"
			]
		},
		{
			"cell_type": "code",
			"execution_count": 3,
			"metadata": {},
			"outputs": [],
			"source": [
				"A = Emitter(\"Python >> Ocaml\", public)\n",
				"B = Receiver(public)"
			]
		},
		{
			"cell_type": "code",
			"execution_count": 5,
			"metadata": {},
			"outputs": [],
			"source": [
				"A.encodeMsg(public)"
			]
		},
		{
			"cell_type": "code",
			"execution_count": 6,
			"metadata": {},
			"outputs": [
				{
					"data": {
						"text/plain": [
							"'Python >> Ocaml'"
						]
					},
					"execution_count": 6,
					"metadata": {},
					"output_type": "execute_result"
				}
			],
			"source": [
				"B.decodeMsg(public)"
			]
		},
		{
			"cell_type": "code",
			"execution_count": 7,
			"metadata": {},
			"outputs": [
				{
					"data": {
						"text/plain": [
							"{'stringToPoints': <function src.utils.createMaps.<locals>.stringToPoints(str)>,\n",
							" 'pointsToString': <function src.utils.createMaps.<locals>.pointsToString(arr)>,\n",
							" 'P': <src.CurvePoint.CurvePoint at 0x1b8d1401e10>,\n",
							" 'q': 290,\n",
							" 'A': array([[-1,  5, -1],\n",
							"        [-2, 11,  7],\n",
							"        [ 1, -5,  2]]),\n",
							" 'aP': <src.CurvePoint.CurvePoint at 0x1b8d1403670>,\n",
							" 'bP': (<src.CurvePoint.CurvePoint at 0x1b8d365b8b0>,\n",
							"  array([<src.CurvePoint.CurvePoint object at 0x000001B8D365A290>,\n",
							"         <src.CurvePoint.CurvePoint object at 0x000001B8D365BFA0>,\n",
							"         <src.CurvePoint.CurvePoint object at 0x000001B8D36CC220>,\n",
							"         <src.CurvePoint.CurvePoint object at 0x000001B8D36CC070>,\n",
							"         <src.CurvePoint.CurvePoint object at 0x000001B8D36CE4A0>,\n",
							"         <src.CurvePoint.CurvePoint object at 0x000001B8D36CDDB0>,\n",
							"         <src.CurvePoint.CurvePoint object at 0x000001B8D36CD540>,\n",
							"         <src.CurvePoint.CurvePoint object at 0x000001B8D36CFA00>,\n",
							"         <src.CurvePoint.CurvePoint object at 0x000001B8D36419F0>,\n",
							"         <src.CurvePoint.CurvePoint object at 0x000001B8D3643610>,\n",
							"         <src.CurvePoint.CurvePoint object at 0x000001B8D3641870>,\n",
							"         <src.CurvePoint.CurvePoint object at 0x000001B8D36411E0>,\n",
							"         <src.CurvePoint.CurvePoint object at 0x000001B8D3643490>,\n",
							"         <src.CurvePoint.CurvePoint object at 0x000001B8D3643AC0>,\n",
							"         <src.CurvePoint.CurvePoint object at 0x000001B8D362C820>],\n",
							"        dtype=object))}"
						]
					},
					"execution_count": 7,
					"metadata": {},
					"output_type": "execute_result"
				}
			],
			"source": [
				"public"
			]
		}
	],
	"metadata": {
		"kernelspec": {
			"display_name": "Python 3.10.1 ('.venv': venv)",
			"language": "python",
			"name": "python3"
		},
		"language_info": {
			"codemirror_mode": {
				"name": "ipython",
				"version": 3
			},
			"file_extension": ".py",
			"mimetype": "text/x-python",
			"name": "python",
			"nbconvert_exporter": "python",
			"pygments_lexer": "ipython3",
			"version": "3.10.1"
		},
		"orig_nbformat": 4,
		"vscode": {
			"interpreter": {
				"hash": "ae867a6b5f12ccd739897f9d761343a74dd71ea65a6d027bc4f7a832d5f08fdb"
			}
		}
	},
	"nbformat": 4,
	"nbformat_minor": 2
}
