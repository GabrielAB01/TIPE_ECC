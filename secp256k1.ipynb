{
 "cells": [
  {
   "cell_type": "code",
   "execution_count": 1,
   "metadata": {},
   "outputs": [],
   "source": [
    "from src.IntModP import IntModP\n",
    "from src.CurvePoint import CurvePoint\n",
    "from src.EllipticCurve import EllipticCurve\n",
    "\n",
    "\n",
    "from src.Emitter import Emitter\n",
    "from src.Receiver import Receiver\n",
    "from src.Interceptor import Interceptor\n",
    "\n",
    "\n",
    "from src.utils import initPublic, displayPointsArray"
   ]
  },
  {
   "cell_type": "code",
   "execution_count": 2,
   "metadata": {},
   "outputs": [
    {
     "name": "stdout",
     "output_type": "stream",
     "text": [
      "115792089237316195423570985008687907853269984665640564039457584007908834671663\n"
     ]
    }
   ],
   "source": [
    "IntModP.p = 2**(256) - 2**(32) - 2**9 - 2**8 - 2**7 - 2**6 - 2**4 - 1\n",
    "print(IntModP.p)\n",
    "a = 0\n",
    "b = 7"
   ]
  },
  {
   "cell_type": "code",
   "execution_count": 3,
   "metadata": {},
   "outputs": [
    {
     "name": "stdout",
     "output_type": "stream",
     "text": [
      "55066263022277343669578718895168534326250603453777594175500187360389116729240\n",
      "32670510020758816978083085130507043184471273380659243275938904335757337482424\n"
     ]
    }
   ],
   "source": [
    "xp = int(0x79be667ef9dcbbac55a06295ce870b07029bfcdb2dce28d959f2815b16f81798)\n",
    "yp = int(0x483ada7726a3c4655da4fbfc0e1108a8fd17b448a68554199c47d08ffb10d4b8)\n",
    "print(xp)\n",
    "print(yp)"
   ]
  },
  {
   "cell_type": "code",
   "execution_count": null,
   "metadata": {},
   "outputs": [],
   "source": [
    "P = CurvePoint(a, b, xp, yp)\n",
    "P.o = int(0xfffffffffffffffffffffffffffffffebaaedce6af48a03bbfd25e8cd0364141)"
   ]
  },
  {
   "cell_type": "code",
   "execution_count": null,
   "metadata": {},
   "outputs": [],
   "source": [
    "public = initPublic(P)\n",
    "A = Emitter(\"a\", public)\n",
    "B = Receiver(public)\n"
   ]
  },
  {
   "cell_type": "code",
   "execution_count": null,
   "metadata": {},
   "outputs": [
    {
     "name": "stdout",
     "output_type": "stream",
     "text": [
      "[(50941577447829333053554827240845625387849936949102504701991564489690276402170, 19080351851316764720833015702403686355983739678704258230080711203726917779551), (None, None), (None, None)]\n",
      "M : (3, 1)\n",
      "Q : (3, 1)\n",
      "S: (3,)\n",
      "[(50941577447829333053554827240845625387849936949102504701991564489690276402170, 96711737385999430702737969306284221497286244986936305809376872804181916892112), (53608827503457604521629461858943876386372335797950804020693645294621369918392, 85270331656604485808643185579235324514998914422932392791604256704999639346499), (50941577447829333053554827240845625387849936949102504701991564489690276402170, 19080351851316764720833015702403686355983739678704258230080711203726917779551)]\n",
      "-----------\n",
      "[(74190590192849286345075487493037199248366502217743971167768651542320566178587, 33295476661141604431892882062431465488517253192532275106477592077060668128548), (36697664680649686081168411149922057221061955063036955909146945729311960077403, 15575004596868141435354119239587512444633783132616389289301495028639808603376), (97586397506900477631512732468126230222031636203328576157913361621708683282908, 72999807811166945220859299405209300243980815664637813944679294780693651123538)]\n",
      "True\n"
     ]
    }
   ],
   "source": [
    "A.encodeMsg(public)\n",
    "b1, b2 = public[\"bP\"]\n",
    "print(\"-----------\")\n",
    "displayPointsArray(b2 - B.a * b1)\n",
    "print(A.b * P == b1)"
   ]
  },
  {
   "cell_type": "code",
   "execution_count": null,
   "metadata": {},
   "outputs": [
    {
     "name": "stdout",
     "output_type": "stream",
     "text": [
      "[(23086056461669081184927456090670452120146120793329938873574033529313744634811, 98754441981705156404616512102588390049460985723900669553232711694736412743302), (3364263211839786311832096675250096397755283427774762969288165518777751695216, 13677994578406785675586157946944549624603039558499016315657548466015457462602), (107158495094201331267372044869006666644324785696291319341610048814850683117144, 95550672989330547194270751597233142339091711252976700723883424048989926527965)]\n",
      "S: (3,)\n",
      "[(74190590192849286345075487493037199248366502217743971167768651542320566178587, 33295476661141604431892882062431465488517253192532275106477592077060668128548), (36697664680649686081168411149922057221061955063036955909146945729311960077403, 15575004596868141435354119239587512444633783132616389289301495028639808603376), (97586397506900477631512732468126230222031636203328576157913361621708683282908, 72999807811166945220859299405209300243980815664637813944679294780693651123538)]\n"
     ]
    },
    {
     "ename": "KeyError",
     "evalue": "'40686948996513942029566738610353301368695092821690156995087439881689956334386,101494663385385176828658785377177888190702997546742750866929185296504796193897'",
     "output_type": "error",
     "traceback": [
      "\u001b[1;31m---------------------------------------------------------------------------\u001b[0m",
      "\u001b[1;31mKeyError\u001b[0m                                  Traceback (most recent call last)",
      "Cell \u001b[1;32mIn [11], line 1\u001b[0m\n\u001b[1;32m----> 1\u001b[0m B\u001b[39m.\u001b[39;49mdecodeMsg(public)\n",
      "File \u001b[1;32mc:\\Users\\Gabriel\\Desktop\\Dev\\TIPE_ECC\\src\\Receiver.py:33\u001b[0m, in \u001b[0;36mReceiver.decodeMsg\u001b[1;34m(self, public)\u001b[0m\n\u001b[0;32m     31\u001b[0m pointsArr \u001b[39m=\u001b[39m np\u001b[39m.\u001b[39mndarray\u001b[39m.\u001b[39mflatten(M) \u001b[39m# Matrice (P1, P2, ... Pn)\u001b[39;00m\n\u001b[0;32m     32\u001b[0m \u001b[39m# displayPointsArray(pointsArr)\u001b[39;00m\n\u001b[1;32m---> 33\u001b[0m msg \u001b[39m=\u001b[39m public[\u001b[39m\"\u001b[39;49m\u001b[39mpointsToString\u001b[39;49m\u001b[39m\"\u001b[39;49m](pointsArr)\n\u001b[0;32m     35\u001b[0m \u001b[39m# Enlever les caractères nuls:\u001b[39;00m\n\u001b[0;32m     36\u001b[0m \u001b[39mreturn\u001b[39;00m msg\u001b[39m.\u001b[39mrstrip(\u001b[39m'\u001b[39m\u001b[39m\\x00\u001b[39;00m\u001b[39m'\u001b[39m)\n",
      "File \u001b[1;32mc:\\Users\\Gabriel\\Desktop\\Dev\\TIPE_ECC\\src\\utils.py:59\u001b[0m, in \u001b[0;36mcreateMaps.<locals>.pointsToString\u001b[1;34m(arr)\u001b[0m\n\u001b[0;32m     58\u001b[0m \u001b[39mdef\u001b[39;00m \u001b[39mpointsToString\u001b[39m(arr):\n\u001b[1;32m---> 59\u001b[0m \tmsg \u001b[39m=\u001b[39m [pointToLetter[Q\u001b[39m.\u001b[39mgetCoords()] \u001b[39mfor\u001b[39;00m Q \u001b[39min\u001b[39;00m arr]\n\u001b[0;32m     60\u001b[0m \t\u001b[39mreturn\u001b[39;00m \u001b[39m\"\u001b[39m\u001b[39m\"\u001b[39m\u001b[39m.\u001b[39mjoin(msg)\n",
      "File \u001b[1;32mc:\\Users\\Gabriel\\Desktop\\Dev\\TIPE_ECC\\src\\utils.py:59\u001b[0m, in \u001b[0;36m<listcomp>\u001b[1;34m(.0)\u001b[0m\n\u001b[0;32m     58\u001b[0m \u001b[39mdef\u001b[39;00m \u001b[39mpointsToString\u001b[39m(arr):\n\u001b[1;32m---> 59\u001b[0m \tmsg \u001b[39m=\u001b[39m [pointToLetter[Q\u001b[39m.\u001b[39;49mgetCoords()] \u001b[39mfor\u001b[39;00m Q \u001b[39min\u001b[39;00m arr]\n\u001b[0;32m     60\u001b[0m \t\u001b[39mreturn\u001b[39;00m \u001b[39m\"\u001b[39m\u001b[39m\"\u001b[39m\u001b[39m.\u001b[39mjoin(msg)\n",
      "\u001b[1;31mKeyError\u001b[0m: '40686948996513942029566738610353301368695092821690156995087439881689956334386,101494663385385176828658785377177888190702997546742750866929185296504796193897'"
     ]
    }
   ],
   "source": [
    "B.decodeMsg(public)\n"
   ]
  },
  {
   "cell_type": "code",
   "execution_count": null,
   "metadata": {},
   "outputs": [
    {
     "data": {
      "text/plain": [
       "'A'"
      ]
     },
     "execution_count": 7,
     "metadata": {},
     "output_type": "execute_result"
    }
   ],
   "source": [
    "public[\"pointsToString\"]([CurvePoint(a, b, 49391401948782694554304397803768175143908830894876724449737114782272465407459, 75724423617855918794554466387348180687275922361501347229397878831055928931347)])"
   ]
  },
  {
   "cell_type": "code",
   "execution_count": null,
   "metadata": {},
   "outputs": [
    {
     "ename": "NameError",
     "evalue": "name 'letterToPoint' is not defined",
     "output_type": "error",
     "traceback": [
      "\u001b[1;31m---------------------------------------------------------------------------\u001b[0m",
      "\u001b[1;31mNameError\u001b[0m                                 Traceback (most recent call last)",
      "Cell \u001b[1;32mIn [16], line 5\u001b[0m\n\u001b[0;32m      1\u001b[0m \u001b[39mfrom\u001b[39;00m \u001b[39msrc\u001b[39;00m\u001b[39m.\u001b[39;00m\u001b[39mutils\u001b[39;00m \u001b[39mimport\u001b[39;00m createMaps\n\u001b[0;32m      4\u001b[0m createMaps(P)\n\u001b[1;32m----> 5\u001b[0m letterToPoint\n",
      "\u001b[1;31mNameError\u001b[0m: name 'letterToPoint' is not defined"
     ]
    }
   ],
   "source": []
  }
 ],
 "metadata": {
  "kernelspec": {
   "display_name": "Python 3.10.1 ('.venv': venv)",
   "language": "python",
   "name": "python3"
  },
  "language_info": {
   "codemirror_mode": {
    "name": "ipython",
    "version": 3
   },
   "file_extension": ".py",
   "mimetype": "text/x-python",
   "name": "python",
   "nbconvert_exporter": "python",
   "pygments_lexer": "ipython3",
   "version": "3.10.1"
  },
  "orig_nbformat": 4,
  "vscode": {
   "interpreter": {
    "hash": "ae867a6b5f12ccd739897f9d761343a74dd71ea65a6d027bc4f7a832d5f08fdb"
   }
  }
 },
 "nbformat": 4,
 "nbformat_minor": 2
}
