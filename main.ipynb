{
 "cells": [
  {
   "cell_type": "code",
   "execution_count": 1,
   "metadata": {},
   "outputs": [],
   "source": [
    "from src.constants import p, a, b\n",
    "from src.IntModP import IntModP\n",
    "from src.CurvePoint import CurvePoint\n",
    "from src.EllipticCurve import EllipticCurve\n",
    "\n",
    "from src.Encoder import Encoder"
   ]
  },
  {
   "cell_type": "code",
   "execution_count": 2,
   "metadata": {},
   "outputs": [
    {
     "name": "stdout",
     "output_type": "stream",
     "text": [
      "3 [13]\n",
      "1 [13]\n"
     ]
    }
   ],
   "source": [
    "x = IntModP(6)\n",
    "y = IntModP(3)\n",
    "x+=y\n",
    "print(x**2)\n",
    "y*=x\n",
    "print(y)\n"
   ]
  },
  {
   "cell_type": "code",
   "execution_count": 3,
   "metadata": {},
   "outputs": [
    {
     "name": "stdout",
     "output_type": "stream",
     "text": [
      "Point de E(Z/13Z) : (12 [13], 2 [13])\n",
      "Point de E(Z/13Z) : (12 [13], 2 [13])\n"
     ]
    }
   ],
   "source": [
    "P = CurvePoint(a, b, 2, 3)\n",
    "Q = CurvePoint(a, b, 2, 3)\n",
    "print(P+P+Q+P+P+P+Q)\n",
    "print(5*P+2*Q)"
   ]
  },
  {
   "cell_type": "code",
   "execution_count": 16,
   "metadata": {},
   "outputs": [
    {
     "name": "stdout",
     "output_type": "stream",
     "text": [
      "y^2 = x^3 + 3 [13]x + 8 [13]\n",
      "[(None, None), (1, 5), (1, 8), (2, 3), (2, 10), (9, 6), (9, 7), (12, 2), (12, 11)]\n"
     ]
    }
   ],
   "source": [
    "E = EllipticCurve(a, b)\n",
    "print(E)\n",
    "E.printPoints()"
   ]
  },
  {
   "cell_type": "code",
   "execution_count": 6,
   "metadata": {},
   "outputs": [
    {
     "name": "stdout",
     "output_type": "stream",
     "text": [
      "28957391047446597332258986418889397224721166393942305\n",
      "Message à décoder !!\n"
     ]
    }
   ],
   "source": [
    "msg = \"Message à décoder !!\"\n",
    "nMsg = Encoder.encode(msg)\n",
    "print(nMsg)\n",
    "print(Encoder.decode(nMsg))\n"
   ]
  },
  {
   "cell_type": "code",
   "execution_count": 13,
   "metadata": {},
   "outputs": [
    {
     "name": "stdout",
     "output_type": "stream",
     "text": [
      "Neutre de E(Z/13Z)\n"
     ]
    }
   ],
   "source": [
    "print(9*g)"
   ]
  },
  {
   "cell_type": "code",
   "execution_count": null,
   "metadata": {},
   "outputs": [],
   "source": []
  }
 ],
 "metadata": {
  "kernelspec": {
   "display_name": "Python 3.10.1 ('.venv': venv)",
   "language": "python",
   "name": "python3"
  },
  "language_info": {
   "codemirror_mode": {
    "name": "ipython",
    "version": 3
   },
   "file_extension": ".py",
   "mimetype": "text/x-python",
   "name": "python",
   "nbconvert_exporter": "python",
   "pygments_lexer": "ipython3",
   "version": "3.10.1"
  },
  "orig_nbformat": 4,
  "vscode": {
   "interpreter": {
    "hash": "ae867a6b5f12ccd739897f9d761343a74dd71ea65a6d027bc4f7a832d5f08fdb"
   }
  }
 },
 "nbformat": 4,
 "nbformat_minor": 2
}
